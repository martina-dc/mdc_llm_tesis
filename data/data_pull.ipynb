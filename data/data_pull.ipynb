{
 "cells": [
  {
   "cell_type": "code",
   "execution_count": 13,
   "metadata": {},
   "outputs": [],
   "source": [
    "import pandas as pd\n",
    "import numpy as np\n",
    "import json\n",
    "import requests\n",
    "\n",
    "from datetime import datetime, timedelta, timezone, date\n",
    "pd.options.display.max_columns=None\n",
    "from pyprojroot import here\n",
    "\n",
    "\n",
    "import matplotlib.pyplot as plt\n",
    "import os\n",
    "import seaborn as sns"
   ]
  },
  {
   "cell_type": "code",
   "execution_count": 14,
   "metadata": {},
   "outputs": [],
   "source": [
    "import sys\n",
    "sys.path.append('/Users/martinadicarloscalvo/Documents/martu/mdc_llm_tesis')\n",
    "\n",
    "from src.utils.extraction import MeliAPI"
   ]
  },
  {
   "cell_type": "code",
   "execution_count": 15,
   "metadata": {},
   "outputs": [
    {
     "name": "stdout",
     "output_type": "stream",
     "text": [
      "/Users/martinadicarloscalvo/Documents/martu/mdc_llm_tesis/secrets\n",
      "http://auth.mercadolibre.com.ar/authorization?response_type=code&client_id=8498562072383404&redirect_uri=https://www.google.com\n",
      "<Response [200]>\n"
     ]
    }
   ],
   "source": [
    "meli_api = MeliAPI()"
   ]
  },
  {
   "cell_type": "code",
   "execution_count": 10,
   "metadata": {},
   "outputs": [],
   "source": [
    "filters = {\"installments\":\"yes\",\n",
    "           \"display_size\":'15',\n",
    "          \"shipping_cost\":\"free\"}"
   ]
  },
  {
   "cell_type": "code",
   "execution_count": 12,
   "metadata": {},
   "outputs": [
    {
     "name": "stdout",
     "output_type": "stream",
     "text": [
      "Encontramos 13165 resultados para nuestra consulta\n"
     ]
    }
   ],
   "source": [
    "maximum = meli_api.get_q_items()\n",
    "print(f'Encontramos {maximum} resultados para nuestra consulta')"
   ]
  },
  {
   "cell_type": "code",
   "execution_count": 16,
   "metadata": {},
   "outputs": [
    {
     "name": "stdout",
     "output_type": "stream",
     "text": [
      "El offst es 4000 se terminará la ejecución.\n",
      "Porcentaje de completitud: 100.00%\r"
     ]
    }
   ],
   "source": [
    "data = meli_api.get_df_list()\n",
    "data[\"installment\"] = \"yes\"\n",
    "data[\"shipping_cost\"] = \"free\""
   ]
  },
  {
   "cell_type": "code",
   "execution_count": 17,
   "metadata": {},
   "outputs": [
    {
     "data": {
      "text/plain": [
       "(3988, 65)"
      ]
     },
     "execution_count": 17,
     "metadata": {},
     "output_type": "execute_result"
    }
   ],
   "source": [
    "data.shape"
   ]
  },
  {
   "cell_type": "code",
   "execution_count": 19,
   "metadata": {},
   "outputs": [],
   "source": [
    "import datetime as dt"
   ]
  },
  {
   "cell_type": "code",
   "execution_count": 21,
   "metadata": {},
   "outputs": [],
   "source": [
    "data.to_csv(f\"datos_laptops_{dt.datetime.now()}.csv\", index = False, sep = \";\")"
   ]
  },
  {
   "cell_type": "code",
   "execution_count": null,
   "metadata": {},
   "outputs": [],
   "source": []
  }
 ],
 "metadata": {
  "kernelspec": {
   "display_name": "Python 3",
   "language": "python",
   "name": "python3"
  },
  "language_info": {
   "codemirror_mode": {
    "name": "ipython",
    "version": 3
   },
   "file_extension": ".py",
   "mimetype": "text/x-python",
   "name": "python",
   "nbconvert_exporter": "python",
   "pygments_lexer": "ipython3",
   "version": "3.9.19"
  }
 },
 "nbformat": 4,
 "nbformat_minor": 2
}
